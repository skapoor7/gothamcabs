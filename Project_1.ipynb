{
 "cells": [
  {
   "cell_type": "code",
   "execution_count": 1,
   "metadata": {},
   "outputs": [],
   "source": [
    "import pandas as pd\n",
    "import numpy as np\n",
    "from datetime import datetime\n",
    "import sklearn\n",
    "from sklearn.metrics import mean_squared_error, r2_score"
   ]
  },
  {
   "cell_type": "code",
   "execution_count": 2,
   "metadata": {},
   "outputs": [],
   "source": [
    "df1 = pd.read_csv(\"C:\\\\Users\\\\Siddharth Kapoor\\\\Desktop\\\\ML Projects\\\\Gotham Cabs\\\\Train_New.csv\")"
   ]
  },
  {
   "cell_type": "code",
   "execution_count": 3,
   "metadata": {},
   "outputs": [],
   "source": [
    "df2 = df1[[\"duration\",\"route\",\"month\",\"hour\",\"weekday\"]]\n",
    "df2 = pd.get_dummies(df2,columns=[\"route\"])\n",
    "df2 = pd.get_dummies(df2,columns=[\"month\"])\n",
    "df2 = pd.get_dummies(df2,columns=[\"hour\"])\n",
    "df2 = pd.get_dummies(df2,columns=[\"weekday\"])\n",
    "df2[\"new\"] = 1\n"
   ]
  },
  {
   "cell_type": "code",
   "execution_count": 4,
   "metadata": {},
   "outputs": [
    {
     "name": "stderr",
     "output_type": "stream",
     "text": [
      "c:\\anaconda\\envs\\tensorflow\\lib\\site-packages\\sklearn\\cross_validation.py:41: DeprecationWarning: This module was deprecated in version 0.18 in favor of the model_selection module into which all the refactored classes and functions are moved. Also note that the interface of the new CV iterators are different from that of this module. This module will be removed in 0.20.\n",
      "  \"This module will be removed in 0.20.\", DeprecationWarning)\n"
     ]
    }
   ],
   "source": [
    "#df2 = pd.get_dummies(df2,columns=[\"route\"])\n",
    "dfy = df2[\"duration\"]\n",
    "dfx = df2.drop([\"duration\"],axis =1)\n",
    "#from sklearn.preprocessing import StandardScaler\n",
    "#scaler = StandardScaler()\n",
    "#scaler.fit(dfx)\n",
    "#X = scaler.transform(dfx)\n",
    "from sklearn.cross_validation import train_test_split\n",
    "dftrainx,dftestx,dftrainy,dftesty = train_test_split(dfx,dfy,train_size=.8,test_size=.2,random_state = 0)"
   ]
  },
  {
   "cell_type": "code",
   "execution_count": 5,
   "metadata": {},
   "outputs": [],
   "source": [
    "X_train = np.array(dftrainx)\n",
    "y_train = np.array(dftrainy)\n",
    "y_test = np.array(dftesty)\n",
    "X_test = np.array(dftestx)"
   ]
  },
  {
   "cell_type": "markdown",
   "metadata": {},
   "source": [
    "# Train Data Split"
   ]
  },
  {
   "cell_type": "code",
   "execution_count": 6,
   "metadata": {},
   "outputs": [],
   "source": [
    "from sklearn.cross_validation import train_test_split\n",
    "dftrainx1,dftrainx2,dftrainy1,dftrainy2 = train_test_split(X_train,y_train,train_size=.8,test_size=.2,random_state = 0)"
   ]
  },
  {
   "cell_type": "markdown",
   "metadata": {},
   "source": [
    "# 1st Layer"
   ]
  },
  {
   "cell_type": "markdown",
   "metadata": {},
   "source": [
    "# Linear Regression"
   ]
  },
  {
   "cell_type": "code",
   "execution_count": 12,
   "metadata": {},
   "outputs": [],
   "source": [
    "from sklearn.linear_model import LinearRegression\n",
    "regressor=LinearRegression()\n",
    "regressor.fit(dftrainx1,dftrainy1)\n",
    "y_pred_linear_1_layer = regressor.predict(dftrainx2)"
   ]
  },
  {
   "cell_type": "code",
   "execution_count": 14,
   "metadata": {},
   "outputs": [
    {
     "data": {
      "text/plain": [
       "2.6221123948949956e+22"
      ]
     },
     "execution_count": 14,
     "metadata": {},
     "output_type": "execute_result"
    }
   ],
   "source": [
    "mean_squared_error(dftrainy2,y_pred_linear_1_layer)"
   ]
  },
  {
   "cell_type": "code",
   "execution_count": null,
   "metadata": {},
   "outputs": [],
   "source": [
    "y_pred_linear_1_layer_test = regressor.predict(dftestx)"
   ]
  },
  {
   "cell_type": "markdown",
   "metadata": {},
   "source": [
    "# Decision Tree Regressor"
   ]
  },
  {
   "cell_type": "code",
   "execution_count": 15,
   "metadata": {},
   "outputs": [],
   "source": [
    "from sklearn.tree import DecisionTreeRegressor\n",
    "tree_reg = DecisionTreeRegressor(max_depth = 10)\n",
    "tree_reg.fit(dftrainx1,dftrainy1)\n",
    "y_pred_tree_1_layer = tree_reg.predict(dftrainx2)"
   ]
  },
  {
   "cell_type": "code",
   "execution_count": 16,
   "metadata": {},
   "outputs": [
    {
     "data": {
      "text/plain": [
       "260307.31710202145"
      ]
     },
     "execution_count": 16,
     "metadata": {},
     "output_type": "execute_result"
    }
   ],
   "source": [
    "mean_squared_error(dftrainy2,y_pred_tree_1_layer)"
   ]
  },
  {
   "cell_type": "code",
   "execution_count": null,
   "metadata": {},
   "outputs": [],
   "source": [
    "y_pred_tree_1_layer_test = tree_reg.predict(dftestx)"
   ]
  },
  {
   "cell_type": "markdown",
   "metadata": {},
   "source": [
    "# Lasso Regression"
   ]
  },
  {
   "cell_type": "code",
   "execution_count": 17,
   "metadata": {},
   "outputs": [],
   "source": [
    "from sklearn.linear_model import Lasso\n",
    "lasso_reg = Lasso(alpha = 0.1)\n",
    "lasso_reg.fit(dftrainx1,dftrainy1)\n",
    "y_pred_lasso_1_layer = lasso_reg.predict(dftrainx2)"
   ]
  },
  {
   "cell_type": "code",
   "execution_count": 21,
   "metadata": {},
   "outputs": [
    {
     "data": {
      "text/plain": [
       "108642.1101732915"
      ]
     },
     "execution_count": 21,
     "metadata": {},
     "output_type": "execute_result"
    }
   ],
   "source": [
    "mean_squared_error(dftrainy2,y_pred_lasso_1_layer)"
   ]
  },
  {
   "cell_type": "code",
   "execution_count": 19,
   "metadata": {},
   "outputs": [],
   "source": [
    "y_pred_lasso_1_layer_test = lasso_reg.predict(dftestx)"
   ]
  },
  {
   "cell_type": "markdown",
   "metadata": {},
   "source": [
    "# Ridge Regression"
   ]
  },
  {
   "cell_type": "code",
   "execution_count": 20,
   "metadata": {},
   "outputs": [],
   "source": [
    "from sklearn.linear_model import Ridge\n",
    "ridge_reg = Ridge(alpha = 2)\n",
    "ridge_reg.fit(dftrainx1,dftrainy1)\n",
    "y_pred_ridge_1_layer = ridge_reg.predict(dftrainx2)"
   ]
  },
  {
   "cell_type": "code",
   "execution_count": 22,
   "metadata": {},
   "outputs": [
    {
     "data": {
      "text/plain": [
       "99586.088603572192"
      ]
     },
     "execution_count": 22,
     "metadata": {},
     "output_type": "execute_result"
    }
   ],
   "source": [
    "mean_squared_error(dftrainy2,y_pred_ridge_1_layer)"
   ]
  },
  {
   "cell_type": "code",
   "execution_count": 23,
   "metadata": {},
   "outputs": [],
   "source": [
    "y_pred_ridge_1_layer_test = ridge_reg.predict(dftestx)"
   ]
  },
  {
   "cell_type": "markdown",
   "metadata": {},
   "source": [
    "# DNN Regressor"
   ]
  },
  {
   "cell_type": "code",
   "execution_count": 7,
   "metadata": {},
   "outputs": [
    {
     "name": "stdout",
     "output_type": "stream",
     "text": [
      "WARNING:tensorflow:From c:\\anaconda\\envs\\tensorflow\\lib\\site-packages\\tensorflow\\contrib\\learn\\python\\learn\\datasets\\base.py:198: retry (from tensorflow.contrib.learn.python.learn.datasets.base) is deprecated and will be removed in a future version.\n",
      "Instructions for updating:\n",
      "Use the retry module or similar alternatives.\n"
     ]
    }
   ],
   "source": [
    "import tensorflow.contrib.learn as skflow\n",
    "import tensorflow as tf\n",
    "tf.logging.set_verbosity(tf.logging.ERROR)\n",
    "\n",
    "import numpy as np\n",
    "np.set_printoptions(precision=2)\n",
    "\n",
    "from sklearn.model_selection import train_test_split\n",
    "\n",
    "#import matplotlib.pyplot as plt\n",
    "\n",
    "#import logging\n",
    "#logging.basicConfig(level=logging.INFO)\n",
    "#logging.info('Tensorflow %s' % tf.__version__) # 1.4.1\n",
    "\n",
    "# This is the magic function which the Deep Neural Network\n",
    "# has to 'learn' (see http://neuralnetworksanddeeplearning.com/chap4.html)\n",
    "f = lambda x: 0.2+0.4*x**2+0.3*x*np.sin(15*x)+0.05*np.cos(50*x)\n",
    "\n",
    "# Generate the 'features'\n",
    "X = np.linspace(0, 1, 1000001).reshape((-1, 1))\n",
    "\n",
    "# Generate the 'labels'\n",
    "y = f(X)"
   ]
  },
  {
   "cell_type": "code",
   "execution_count": 8,
   "metadata": {},
   "outputs": [
    {
     "data": {
      "text/plain": [
       "((258628, 699), (258628,))"
      ]
     },
     "execution_count": 8,
     "metadata": {},
     "output_type": "execute_result"
    }
   ],
   "source": [
    "dftestx.shape,dftesty.shape"
   ]
  },
  {
   "cell_type": "code",
   "execution_count": 9,
   "metadata": {},
   "outputs": [],
   "source": [
    "def training_input_fn(batch_size=1):\n",
    "    return tf.estimator.inputs.numpy_input_fn(x={'X': dftrainx1.astype(np.float32)},y=dftrainy1.astype(np.float32),batch_size=batch_size,num_epochs=None,shuffle=True)\n",
    "#def training_input_fn2(batch_size=1):\n",
    "#    return tf.estimator.inputs.numpy_input_fn(x={'X': dftrainx2.astype(np.float32)},y=dftrainy2.astype(np.float32),batch_size=batch_size,num_epochs=None,shuffle=True)\n",
    "\n",
    "# for test\n",
    "\n",
    "def test_input_fn():\n",
    "    return tf.estimator.inputs.numpy_input_fn(x={'X': dftrainx2.astype(np.float32)},y=dftrainy2.astype(np.float32),num_epochs=1,shuffle=False)\n",
    "def test_input_fn2():\n",
    "    return tf.estimator.inputs.numpy_input_fn(x={'X': dftestx.astype(np.float32)},y=dftesty.astype(np.float32),num_epochs=1,shuffle=False)"
   ]
  },
  {
   "cell_type": "code",
   "execution_count": 10,
   "metadata": {},
   "outputs": [],
   "source": [
    "# Network Design\n",
    "# --------------\n",
    "feature_columns = [tf.feature_column.numeric_column('X', shape=(699,))]\n",
    "\n",
    "STEPS_PER_EPOCH = 100\n",
    "EPOCHS = 200\n",
    "BATCH_SIZE = 100\n",
    "\n",
    "hidden_layers = [16, 16, 16, 16, 16]\n",
    "dropout = 0.0\n",
    "\n",
    "#MODEL_PATH='./DNNRegressors/'\n",
    "#for hl in hidden_layers:\n",
    "#    MODEL_PATH += '%s_' % hl\n",
    "#MODEL_PATH += 'D0%s' % (int(dropout*10))\n",
    "#logging.info('Saving to %s' % MODEL_PATH)\n",
    "\n",
    "\n",
    "# Validation and Test Configuration\n",
    "validation_metrics = {\"MSE\": tf.contrib.metrics.streaming_mean_squared_error}\n",
    "test_config = skflow.RunConfig(save_checkpoints_steps=100,save_checkpoints_secs=None)\n",
    "\n",
    "# Building the Network\n",
    "regressorDNN = skflow.DNNRegressor(feature_columns=feature_columns,label_dimension=1,hidden_units=hidden_layers,model_dir=None,dropout=dropout,config=test_config)\n"
   ]
  },
  {
   "cell_type": "code",
   "execution_count": 11,
   "metadata": {},
   "outputs": [
    {
     "name": "stdout",
     "output_type": "stream",
     "text": [
      "Epoch 1: 157769.92188 MSE\n",
      "Epoch 11: 94481.53125 MSE\n",
      "Epoch 21: 89961.43750 MSE\n",
      "Epoch 31: 88607.55469 MSE\n",
      "Epoch 41: 88401.65625 MSE\n",
      "Epoch 51: 87428.90625 MSE\n",
      "Epoch 61: 87075.57812 MSE\n",
      "Epoch 71: 86652.82031 MSE\n",
      "Epoch 81: 86316.07812 MSE\n",
      "Epoch 91: 86323.75781 MSE\n",
      "Epoch 101: 85952.18750 MSE\n",
      "Epoch 111: 85991.13281 MSE\n",
      "Epoch 121: 86128.60156 MSE\n",
      "Epoch 131: 85731.50000 MSE\n",
      "Epoch 141: 85481.40625 MSE\n",
      "Epoch 151: 85481.84375 MSE\n",
      "Epoch 161: 85347.00000 MSE\n",
      "Epoch 171: 85214.82031 MSE\n",
      "Epoch 181: 85204.92188 MSE\n",
      "Epoch 191: 85417.40625 MSE\n",
      "Epoch 201: 85229.89844 MSE\n"
     ]
    }
   ],
   "source": [
    "for epoch in range(EPOCHS+1):\n",
    "    # Fit the DNNRegressor (This is where the magic happens!!!)\n",
    "    regressorDNN.fit(input_fn=training_input_fn(batch_size=BATCH_SIZE),steps=STEPS_PER_EPOCH)\n",
    "    # Thats it -----------------------------\n",
    "    # Start Tensorboard in Terminal:\n",
    "    #tensorboard --logdir='./DNNRegressors/'\n",
    "    # Now open Browser and visit localhost:6006\\\n",
    "\n",
    "\n",
    "    # This is just for fun and educational purpose:\n",
    "    # Evaluate the DNNRegressor every 10th epoch\n",
    "    if epoch%10==0:\n",
    "        eval_dict = regressorDNN.evaluate(input_fn=test_input_fn(),metrics=validation_metrics)\n",
    "        print('Epoch %i: %.5f MSE' % (epoch+1, eval_dict['MSE']))"
   ]
  },
  {
   "cell_type": "code",
   "execution_count": 24,
   "metadata": {},
   "outputs": [],
   "source": [
    "y_pred_neural_1st_layer = regressorDNN.predict(x={'X': dftrainx2}, as_iterable=False)\n",
    "y_pred_neural_2nd_layer = regressorDNN.predict(x={'X': X_test}, as_iterable=False)"
   ]
  },
  {
   "cell_type": "code",
   "execution_count": null,
   "metadata": {},
   "outputs": [],
   "source": [
    "dftrainx2"
   ]
  },
  {
   "cell_type": "code",
   "execution_count": null,
   "metadata": {},
   "outputs": [],
   "source": [
    "y_pred_tree_1_layer.shape,y_pred_neural_1st_layer.shape"
   ]
  },
  {
   "cell_type": "markdown",
   "metadata": {},
   "source": [
    "# Combining and creating new training set"
   ]
  },
  {
   "cell_type": "code",
   "execution_count": 25,
   "metadata": {},
   "outputs": [],
   "source": [
    "training_set_X = pd.DataFrame({'Lasso':y_pred_lasso_1_layer,'ridge':y_pred_ridge_1_layer,'Neural': y_pred_neural_1st_layer })\n",
    "training_set_X[\"new\"] =1"
   ]
  },
  {
   "cell_type": "code",
   "execution_count": 26,
   "metadata": {},
   "outputs": [],
   "source": [
    "# Creating test set for 2nd layer"
   ]
  },
  {
   "cell_type": "code",
   "execution_count": 27,
   "metadata": {},
   "outputs": [],
   "source": [
    "test_set_X = pd.DataFrame({'Lasso':y_pred_lasso_1_layer_test,'ridge':y_pred_ridge_1_layer_test,'Neural': y_pred_neural_2nd_layer})\n",
    "test_set_X[\"new\"] =1"
   ]
  },
  {
   "cell_type": "code",
   "execution_count": null,
   "metadata": {},
   "outputs": [],
   "source": []
  },
  {
   "cell_type": "code",
   "execution_count": null,
   "metadata": {},
   "outputs": [],
   "source": []
  },
  {
   "cell_type": "markdown",
   "metadata": {},
   "source": [
    "# 2nd Layer\n",
    "# XGBoost"
   ]
  },
  {
   "cell_type": "code",
   "execution_count": 28,
   "metadata": {},
   "outputs": [],
   "source": [
    "import xgboost\n",
    "xgb = xgboost.XGBRegressor(n_estimators=100, learning_rate=0.08, gamma=0, subsample=0.75,colsample_bytree=1, max_depth=10)"
   ]
  },
  {
   "cell_type": "code",
   "execution_count": 29,
   "metadata": {},
   "outputs": [
    {
     "data": {
      "text/plain": [
       "XGBRegressor(base_score=0.5, booster='gbtree', colsample_bylevel=1,\n",
       "       colsample_bytree=1, gamma=0, learning_rate=0.08, max_delta_step=0,\n",
       "       max_depth=10, min_child_weight=1, missing=None, n_estimators=100,\n",
       "       n_jobs=1, nthread=None, objective='reg:linear', random_state=0,\n",
       "       reg_alpha=0, reg_lambda=1, scale_pos_weight=1, seed=None,\n",
       "       silent=True, subsample=0.75)"
      ]
     },
     "execution_count": 29,
     "metadata": {},
     "output_type": "execute_result"
    }
   ],
   "source": [
    "xgb.fit(training_set_X,dftrainy2)"
   ]
  },
  {
   "cell_type": "code",
   "execution_count": 30,
   "metadata": {},
   "outputs": [
    {
     "data": {
      "text/plain": [
       "array([  445.31,   873.25,  1178.78, ...,   983.08,   299.72,   347.42], dtype=float32)"
      ]
     },
     "execution_count": 30,
     "metadata": {},
     "output_type": "execute_result"
    }
   ],
   "source": [
    "Y_xgb_predict = xgb.predict(test_set_X)\n",
    "Y_xgb_predict"
   ]
  },
  {
   "cell_type": "code",
   "execution_count": 31,
   "metadata": {},
   "outputs": [
    {
     "data": {
      "text/plain": [
       "84671.494338393823"
      ]
     },
     "execution_count": 31,
     "metadata": {},
     "output_type": "execute_result"
    }
   ],
   "source": [
    "mean_squared_error(dftesty, Y_xgb_predict)"
   ]
  },
  {
   "cell_type": "code",
   "execution_count": 32,
   "metadata": {},
   "outputs": [
    {
     "data": {
      "text/plain": [
       "0.71834569551051386"
      ]
     },
     "execution_count": 32,
     "metadata": {},
     "output_type": "execute_result"
    }
   ],
   "source": [
    "r2_score(dftesty, Y_xgb_predict)"
   ]
  },
  {
   "cell_type": "markdown",
   "metadata": {},
   "source": [
    "# Gradient Boosting"
   ]
  },
  {
   "cell_type": "code",
   "execution_count": null,
   "metadata": {},
   "outputs": [],
   "source": [
    "from sklearn.ensemble import GradientBoostingRegressor\n",
    "grbt = GradientBoostingRegressor(max_depth = 15, n_estimators=30, learning_rate =1.0)\n",
    "grbt.fit(training_set_X,dftrainy2)"
   ]
  },
  {
   "cell_type": "code",
   "execution_count": null,
   "metadata": {},
   "outputs": [],
   "source": [
    "y_Stacked_pred_grbt_ = grbt.predict(test_set_X)"
   ]
  },
  {
   "cell_type": "code",
   "execution_count": null,
   "metadata": {},
   "outputs": [],
   "source": [
    "mean_squared_error(dftesty, y_Stacked_pred_grbt_)"
   ]
  },
  {
   "cell_type": "code",
   "execution_count": null,
   "metadata": {},
   "outputs": [],
   "source": [
    "r2_score(dftesty, y_Stacked_pred_grbt_)"
   ]
  },
  {
   "cell_type": "markdown",
   "metadata": {},
   "source": [
    "# Linear Regression"
   ]
  },
  {
   "cell_type": "code",
   "execution_count": 33,
   "metadata": {},
   "outputs": [],
   "source": [
    "regressor_2_layer=LinearRegression()\n",
    "regressor_2_layer.fit(training_set_X,dftrainy2)\n",
    "y_pred_linear_2_layer = regressor_2_layer.predict(test_set_X)"
   ]
  },
  {
   "cell_type": "code",
   "execution_count": 34,
   "metadata": {},
   "outputs": [
    {
     "data": {
      "text/plain": [
       "83837.20250214907"
      ]
     },
     "execution_count": 34,
     "metadata": {},
     "output_type": "execute_result"
    }
   ],
   "source": [
    "mean_squared_error(dftesty, y_pred_linear_2_layer)"
   ]
  },
  {
   "cell_type": "code",
   "execution_count": 35,
   "metadata": {},
   "outputs": [
    {
     "data": {
      "text/plain": [
       "0.72112091388494881"
      ]
     },
     "execution_count": 35,
     "metadata": {},
     "output_type": "execute_result"
    }
   ],
   "source": [
    "r2_score(dftesty, y_pred_linear_2_layer)"
   ]
  },
  {
   "cell_type": "code",
   "execution_count": null,
   "metadata": {},
   "outputs": [],
   "source": []
  },
  {
   "cell_type": "code",
   "execution_count": null,
   "metadata": {},
   "outputs": [],
   "source": []
  },
  {
   "cell_type": "code",
   "execution_count": null,
   "metadata": {},
   "outputs": [],
   "source": []
  },
  {
   "cell_type": "code",
   "execution_count": null,
   "metadata": {},
   "outputs": [],
   "source": [
    "from sklearn.ensemble import RandomForestRegressor"
   ]
  },
  {
   "cell_type": "code",
   "execution_count": null,
   "metadata": {},
   "outputs": [],
   "source": [
    "model = RandomForestRegressor(n_jobs=-1)"
   ]
  },
  {
   "cell_type": "code",
   "execution_count": null,
   "metadata": {},
   "outputs": [],
   "source": [
    "model.set_params(n_estimators=5)\n",
    "model.fit(X_train, y_train)"
   ]
  },
  {
   "cell_type": "code",
   "execution_count": null,
   "metadata": {},
   "outputs": [],
   "source": [
    "y_random_forest = model.predict(X_test)"
   ]
  }
 ],
 "metadata": {
  "kernelspec": {
   "display_name": "Python 3",
   "language": "python",
   "name": "python3"
  },
  "language_info": {
   "codemirror_mode": {
    "name": "ipython",
    "version": 3
   },
   "file_extension": ".py",
   "mimetype": "text/x-python",
   "name": "python",
   "nbconvert_exporter": "python",
   "pygments_lexer": "ipython3",
   "version": "3.5.5"
  }
 },
 "nbformat": 4,
 "nbformat_minor": 2
}
